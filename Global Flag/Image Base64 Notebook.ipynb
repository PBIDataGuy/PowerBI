import pandas as pd
import base64
import os
import pycountry  # To fetch ISO 3166-1 numeric codes

# Load CSV File
file_path = "CountryFlagMappingList.csv"
try:
    df = pd.read_csv(file_path, encoding="utf-8-sig", engine="python")
except UnicodeDecodeError:
    df = pd.read_csv(file_path, encoding="ISO-8859-1", engine="python")

# Function to Convert Image to Base64
def encode_base64(image_path):
    try:
        if not os.path.exists(image_path):
            return "Error: File not found"
        with open(image_path, "rb") as image_file:
            return base64.b64encode(image_file.read()).decode("utf-8")
    except Exception as e:
        return f"Error: {str(e)}"

# Apply Encoding Function
df["Base64"] = df["Image File Path"].apply(encode_base64)

# Rename Columns
df.rename(columns={"Image File": "CountryISO", "Country": "Country Name"}, inplace=True)

# Preserve Encoding
df["Country Name"] = df["Country Name"].astype(str).apply(lambda x: x.encode("utf-8", "ignore").decode("utf-8"))

# Function to Fetch ISO 3166-1 Numeric Code
def get_iso_numeric_code(country_name):
    try:
        country = pycountry.countries.lookup(country_name)
        return country.numeric
    except LookupError:
        return "N/A"

# Add ISO Country Code Column
df["ISOCountrycode"] = df["Country Name"].apply(get_iso_numeric_code)

# Save as Parquet
df.to_parquet("Country_Flags_Base64.parquet", index=False, engine="pyarrow")

# Save as CSV
df.to_csv("Country_Flags_Base64.csv", index=False, encoding="utf-8-sig")

# Display Sample Output
df.head()
